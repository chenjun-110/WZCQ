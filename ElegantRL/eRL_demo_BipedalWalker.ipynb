{
  "nbformat": 4,
  "nbformat_minor": 2,
  "metadata": {
    "colab": {
      "name": "BipedalWalker_Example.ipynb",
      "provenance": [],
      "collapsed_sections": [],
      "include_colab_link": true
    },
    "kernelspec": {
      "name": "python3",
      "display_name": "Python 3.8.10 64-bit ('base': conda)"
    },
    "language_info": {
      "name": "python",
      "version": "3.8.10",
      "mimetype": "text/x-python",
      "codemirror_mode": {
        "name": "ipython",
        "version": 3
      },
      "pygments_lexer": "ipython3",
      "nbconvert_exporter": "python",
      "file_extension": ".py"
    },
    "interpreter": {
      "hash": "9131c53ea609b1c83a4930f9ef9b895156b0f40bc80fb8f9ee0bf5a21c6927cd"
    }
  },
  "cells": [
    {
      "cell_type": "markdown",
      "source": [
        "<a href=\"https://colab.research.google.com/github/AI4Finance-LLC/ElegantRL/blob/master/BipedalWalker_Example.ipynb\" target=\"_parent\"><img src=\"https://colab.research.google.com/assets/colab-badge.svg\" alt=\"Open In Colab\"/></a>"
      ],
      "metadata": {
        "id": "view-in-github",
        "colab_type": "text"
      }
    },
    {
      "cell_type": "markdown",
      "source": [
        "# **BipedalWalker-v3 Example in ElegantRL**\n",
        "\n",
        "\n",
        "\n",
        "\n"
      ],
      "metadata": {
        "id": "c1gUG3OCJ5GS"
      }
    },
    {
      "cell_type": "markdown",
      "source": [
        "# **Part 1: Testing Task Description**\n",
        "\n",
        "[BipedalWalker-v3](https://gym.openai.com/envs/BipedalWalker-v2/) is a classic task in robotics since it performs one of the most fundamental skills: moving. In this task, our goal is to make a 2D biped walker to walk through rough terrain. BipedalWalker is a difficult task in continuous action space, and there are only a few RL implementations can reach the target reward."
      ],
      "metadata": {
        "id": "FGXyBBvL0dR2"
      }
    },
    {
      "cell_type": "code",
      "execution_count": 1,
      "source": [
        "from IPython.display import HTML\r\n",
        "HTML(f\"\"\"<video src={\"https://gym.openai.com/videos/2019-10-21--mqt8Qj1mwo/BipedalWalker-v2/original.mp4\"} width=500 controls/>\"\"\") # the random demonstration of the task from OpenAI Gym"
      ],
      "outputs": [
        {
          "output_type": "execute_result",
          "data": {
            "text/html": [
              "<video src=https://gym.openai.com/videos/2019-10-21--mqt8Qj1mwo/BipedalWalker-v2/original.mp4 width=500 controls/>"
            ],
            "text/plain": [
              "<IPython.core.display.HTML object>"
            ]
          },
          "metadata": {},
          "execution_count": 1
        }
      ],
      "metadata": {
        "colab": {
          "base_uri": "https://localhost:8080/",
          "height": 354
        },
        "id": "-HUVckiDVPhN",
        "outputId": "ea2edb57-2066-4206-fbe0-fb20525efda8"
      }
    },
    {
      "cell_type": "markdown",
      "source": [
        "# **Part 2: Install ElegantRL**"
      ],
      "metadata": {
        "id": "DbamGVHC3AeW"
      }
    },
    {
      "cell_type": "code",
      "execution_count": 2,
      "source": [
        "# install elegantrl library\r\n",
        "!pip install git+https://github.com/AI4Finance-LLC/ElegantRL.git"
      ],
      "outputs": [],
      "metadata": {
        "id": "U35bhkUqOqbS",
        "colab": {
          "base_uri": "https://localhost:8080/"
        },
        "outputId": "71f0c3a5-ecfc-4a44-f8e7-af491c1d1358"
      }
    },
    {
      "cell_type": "markdown",
      "source": [
        "# **Part 3: Import Packages**\r\n",
        "\r\n",
        "\r\n",
        "*   **elegantrl**\r\n",
        "*   **OpenAI Gym**: 用于开发和比较强化学习算法的工具包\r\n",
        "*   **PyBullet Gym**: OpenAI Gym MuJoCo环境的开源实现。\r\n"
      ],
      "metadata": {
        "id": "UVdmpnK_3Zcn"
      }
    },
    {
      "cell_type": "code",
      "execution_count": 2,
      "source": [
        "from elegantrl.run import *\r\n",
        "from elegantrl.agent import AgentPPO\r\n",
        "from elegantrl.env import PreprocessEnv\r\n",
        "import gym\r\n",
        "gym.logger.set_level(40) # Block warning"
      ],
      "outputs": [],
      "metadata": {
        "id": "1VM1xKujoz-6"
      }
    },
    {
      "cell_type": "markdown",
      "source": [
        "# **Part 4: 指定Agent和环境**\r\n",
        "\r\n",
        "*   **args.agent**: 首先选择一个DRL算法来使用，用户可以从agent.py选择任意一个agent\r\n",
        "*   **args.env**: 创建和预处理环境, 用户可以从OpenAI Gym定制自己的环境或预处理环境, 从env.py定制PyBullet Gym\r\n",
        "\r\n",
        "\r\n",
        ">在完成**args**的初始化之前，请参阅run.py中的Arguments()了解关于可调超参数的更多细节.\r\n",
        "\r\n",
        "\r\n"
      ],
      "metadata": {
        "id": "3n8zcgcn14uq"
      }
    },
    {
      "cell_type": "code",
      "execution_count": 4,
      "source": [
        "args = Arguments(if_on_policy=False)\r\n",
        "args.agent = AgentPPO()  # AgentSAC(), AgentTD3(), AgentDDPG()\r\n",
        "args.env = PreprocessEnv(env=gym.make('BipedalWalker-v3'))\r\n",
        "args.reward_scale = 2 ** -1  # RewardRange: -200 < -150 < 300 < 334\r\n",
        "args.gamma = 0.95\r\n",
        "args.rollout_num = 2 # the number of rollout workers (越大并不总是越快)"
      ],
      "outputs": [
        {
          "output_type": "stream",
          "name": "stdout",
          "text": [
            "\n",
            "| env_name:  BipedalWalker-v3, action space if_discrete: False\n",
            "| state_dim:   24, action_dim: 4, action_max: 1.0\n",
            "| max_step:  1600, target_reward: 300\n"
          ]
        }
      ],
      "metadata": {
        "id": "E03f6cTeajK4",
        "colab": {
          "base_uri": "https://localhost:8080/"
        },
        "outputId": "aba2d931-4805-4d26-bcea-439bc27e7e69"
      }
    },
    {
      "cell_type": "markdown",
      "source": [
        "# **Part 5: 训练和评估 Agent**\r\n",
        "\r\n",
        "> 训练和评估过程都在函数**train_and_evaluate_mp()**中完成，它的唯一参数是**args**。它包括DRL中的基本对象:\r\n",
        "\r\n",
        "*   agent,\r\n",
        "*   environment.\r\n",
        "\r\n",
        "> 其中还包括了训练控制参数:\r\n",
        "\r\n",
        "*   batch_size,\r\n",
        "*   target_step,\r\n",
        "*   reward_scale,\r\n",
        "*   gamma, etc.\r\n",
        "\r\n",
        "> 评估控制的参数:\r\n",
        "\r\n",
        "*   break_step,\r\n",
        "*   random_seed, etc.\r\n",
        "\r\n",
        "\r\n",
        "\r\n",
        "\r\n"
      ],
      "metadata": {
        "id": "z1j5kLHF2dhJ"
      }
    },
    {
      "cell_type": "code",
      "execution_count": null,
      "source": [
        "train_and_evaluate_mp(args) # the training process will terminate once it reaches the target reward."
      ],
      "outputs": [
        {
          "output_type": "stream",
          "name": "stdout",
          "text": [
            "| multiprocessing, act_workers: 2\n",
            "| multiprocessing, None:\n",
            "| GPU id: 0, cwd: ./AgentPPO/BipedalWalker-v3_0\n",
            "| Remove history\n",
            "ID      Step      MaxR |    avgR      stdR       objA      objC\n",
            "0   0.00e+00    -92.10 |\n"
          ]
        }
      ],
      "metadata": {
        "id": "KGOPSD6da23k",
        "colab": {
          "base_uri": "https://localhost:8080/"
        },
        "outputId": "431aa2cb-c802-42d0-e892-d4f2a55b0cd7"
      }
    },
    {
      "cell_type": "markdown",
      "source": [
        "Understanding the above results::\n",
        "*   **Step**: the total training steps.\n",
        "*  **MaxR**: the maximum reward.\n",
        "*   **avgR**: the average of the rewards.\n",
        "*   **stdR**: the standard deviation of the rewards.\n",
        "*   **objA**: the objective function value of Actor Network (Policy Network).\n",
        "*   **objC**: the objective function value (Q-value)  of Critic Network (Value Network)."
      ],
      "metadata": {
        "id": "JPXOxLSqh5cP"
      }
    }
  ]
}